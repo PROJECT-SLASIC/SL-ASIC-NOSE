{
  "nbformat": 4,
  "nbformat_minor": 0,
  "metadata": {
    "colab": {
      "provenance": [],
      "mount_file_id": "1LrSgZqG8jBh-JxNSGseled3-f2cNtZ2k",
      "authorship_tag": "ABX9TyMm83xdNpTrxL4ok3zaJ3IE",
      "include_colab_link": true
    },
    "kernelspec": {
      "name": "python3",
      "display_name": "Python 3"
    },
    "language_info": {
      "name": "python"
    }
  },
  "cells": [
    {
      "cell_type": "markdown",
      "metadata": {
        "id": "view-in-github",
        "colab_type": "text"
      },
      "source": [
        "<a href=\"https://colab.research.google.com/github/PROJECT-SLASIC/SL-ASIC-NOSE/blob/main/Espresso_Filter_Air.ipynb\" target=\"_parent\"><img src=\"https://colab.research.google.com/assets/colab-badge.svg\" alt=\"Open In Colab\"/></a>"
      ]
    },
    {
      "cell_type": "code",
      "execution_count": null,
      "metadata": {
        "colab": {
          "base_uri": "https://localhost:8080/"
        },
        "id": "-9tc1UakHeCy",
        "outputId": "c5be9929-2072-4bb9-b2b0-be157f670645"
      },
      "outputs": [
        {
          "output_type": "execute_result",
          "data": {
            "text/plain": [
              "0.9632277834525026"
            ]
          },
          "metadata": {},
          "execution_count": 1
        }
      ],
      "source": [
        "import pandas as pd\n",
        "from sklearn.neural_network import MLPClassifier\n",
        "from sklearn.preprocessing import StandardScaler\n",
        "from sklearn.model_selection import train_test_split\n",
        "from sklearn.metrics import accuracy_score\n",
        "\n",
        "# Load the datasets\n",
        "espresso_coffee_df = pd.read_csv(\"espresso_coffee.csv\", encoding=\"ISO-8859-1\", delimiter=\";\")\n",
        "air_data_sensor_df = pd.read_csv(\"Air data sensor_0.csv\", encoding=\"ISO-8859-1\", delimiter=\";\", skipinitialspace=True)\n",
        "filter_coffee_df = pd.read_csv(\"Filter_Coffee_Data.csv\", encoding=\"ISO-8859-1\", delimiter=\";\")\n",
        "\n",
        "# Assign target labels\n",
        "espresso_coffee_df['target'] = 1  # espresso\n",
        "air_data_sensor_df['target'] = 0  # air\n",
        "filter_coffee_df['target'] = 2  # filter coffee\n",
        "\n",
        "# Combine the datasets\n",
        "combined_df = pd.concat([espresso_coffee_df, air_data_sensor_df, filter_coffee_df], axis=0, ignore_index=True)\n",
        "\n",
        "# Extract the features and target\n",
        "X = combined_df[[\"Resistance Gas Sensor\", \"Temperature °C\", \"Pressure (Hectopascal)\", \"Relative Humidity %\"]].values\n",
        "y = combined_df['target'].values\n",
        "\n",
        "# Normalize and split the dataset into training and testing sets\n",
        "X_train, X_test, y_train, y_test = train_test_split(X, y, test_size=0.2, random_state=42, shuffle=True)\n",
        "scaler = StandardScaler()\n",
        "X_train_normalized = scaler.fit_transform(X_train)\n",
        "X_test_normalized = scaler.transform(X_test)\n",
        "\n",
        "# Train the MLP classifier with specified architecture\n",
        "specified_mlp_classifier = MLPClassifier(hidden_layer_sizes=(6, 5), max_iter=500, alpha=1e-4, solver='adam', verbose=0, random_state=42)\n",
        "specified_mlp_classifier.fit(X_train_normalized, y_train)\n",
        "\n",
        "# Predict on the test set and calculate accuracy\n",
        "specified_mlp_predictions = specified_mlp_classifier.predict(X_test_normalized)\n",
        "specified_mlp_accuracy = accuracy_score(y_test, specified_mlp_predictions)\n",
        "\n",
        "specified_mlp_accuracy\n"
      ]
    },
    {
      "cell_type": "code",
      "source": [
        "# Save weights and biases of the specified model to separate CSV files\n",
        "pd.DataFrame(specified_mlp_classifier.coefs_[0]).to_csv('specified_6x5_layer_1_weights.csv', index=False)\n",
        "pd.DataFrame(specified_mlp_classifier.intercepts_[0]).to_csv('specified_6x5_layer_1_biases.csv', index=False)\n",
        "pd.DataFrame(specified_mlp_classifier.coefs_[1]).to_csv('specified_6x5_layer_2_weights.csv', index=False)\n",
        "pd.DataFrame(specified_mlp_classifier.intercepts_[1]).to_csv('specified_6x5_layer_2_biases.csv', index=False)\n",
        "pd.DataFrame(specified_mlp_classifier.coefs_[2]).to_csv('specified_6x5_output_layer_weights.csv', index=False)\n",
        "pd.DataFrame(specified_mlp_classifier.intercepts_[2]).to_csv('specified_6x5_output_layer_biases.csv', index=False)\n",
        "\n",
        "['specified_6x5_layer_1_weights.csv', 'specified_6x5_layer_1_biases.csv', 'specified_6x5_layer_2_weights.csv', 'specified_6x5_layer_2_biases.csv', 'specified_6x5_output_layer_weights.csv', 'specified_6x5_output_layer_biases.csv']\n"
      ],
      "metadata": {
        "colab": {
          "base_uri": "https://localhost:8080/"
        },
        "id": "6XcKE53mH7G9",
        "outputId": "2c7a27aa-63d3-4ef9-f0ff-4661c41da8e7"
      },
      "execution_count": null,
      "outputs": [
        {
          "output_type": "execute_result",
          "data": {
            "text/plain": [
              "['specified_6x5_layer_1_weights.csv',\n",
              " 'specified_6x5_layer_1_biases.csv',\n",
              " 'specified_6x5_layer_2_weights.csv',\n",
              " 'specified_6x5_layer_2_biases.csv',\n",
              " 'specified_6x5_output_layer_weights.csv',\n",
              " 'specified_6x5_output_layer_biases.csv']"
            ]
          },
          "metadata": {},
          "execution_count": 3
        }
      ]
    }
  ]
}