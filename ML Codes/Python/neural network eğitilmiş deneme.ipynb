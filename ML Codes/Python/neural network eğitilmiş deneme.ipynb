{
 "cells": [
  {
   "cell_type": "code",
   "execution_count": 20,
   "id": "c26db746",
   "metadata": {},
   "outputs": [
    {
     "name": "stdout",
     "output_type": "stream",
     "text": [
      "1/1 [==============================] - 0s 37ms/step\n",
      "[[-51.323025  16.393663 -15.053751]]\n"
     ]
    }
   ],
   "source": [
    "import tensorflow as tf\n",
    "from tensorflow.keras.models import Sequential\n",
    "from tensorflow.keras.layers import Dense\n",
    "import numpy as np\n",
    "# 1. Manually define weights and biases\n",
    "# For the sake of demonstration, I'm initializing weights and biases with random values. \n",
    "# You'll replace these with the actual values you have.\n",
    "\n",
    "# Layer 1: 6 neurons, input dimension = 4\n",
    "\n",
    "\n",
    "\n",
    "\n",
    "# 2. Build the neural network\n",
    "model = Sequential()\n",
    "model.add(Dense(6, input_dim=4, activation='relu'))\n",
    "model.add(Dense(5, activation='relu'))\n",
    "model.add(Dense(3, activation=None))  # No activation to get logits\n",
    "\n",
    "weights_layer1= np.array([\n",
    " [-0.5057757  , 0.26193553, -0.7879474 ,  0.39854124, -0.62338006, -0.425221  ],\n",
    " [ 0.09397011, -0.5782829 , -0.53482574 , 0.40711787 , 0.03666366 , 0.05507389],\n",
    " [ 0.23494735 , 0.37148505 , 0.04460507 ,-0.70881736 , 0.59166104 , 0.23237057],\n",
    " [-0.3157829 ,  0.13016857 , 0.1893392  ,-0.43751433, -0.65318096, -0.5108037 ],])\n",
    "\n",
    "biases_layer1 = np.array( [ 0.05135577, -0.2887307,  -0.0373226 , -0.00925633 ,-0.3194808,  -0.04436915] )\n",
    "\n",
    "weights_layer2 = np.array( [\n",
    " [-0.08469447, -0.4864893 , -0.03785891 , 0.2417976  , 0.34050894],\n",
    " [-0.14397955 , 0.3893589  , 0.24131137 ,-0.47890988 , 0.4717215 ],\n",
    " [ 0.05968416 ,-0.07996484 ,-0.21729061 , 0.6373506 , -0.62090373],\n",
    " [ 0.6603672  , 0.599881  , -0.12689833 , 0.47051498 , 0.6663459 ],\n",
    " [ 0.196487  ,  0.3060525 ,  0.01365697 ,-0.34191883 ,-0.12574469],\n",
    " [ 0.35571924,  0.35495776 , 0.02807651 , 0.55043787 , 0.23001572]])\n",
    "\n",
    "biases_layer2 =np.array( [ 0.02226821 ,-0.4241935  ,-0.30926973 ,-0.00940641 , 0.18769069])\n",
    "\n",
    "weights_layer3 = np.array([\n",
    " [-0.6096071 , -0.2277595 , -0.09361017],\n",
    " [-0.35675514 ,0.64609575 ,-0.2800509 ],\n",
    " [ 0.07446579 ,-0.25320265, -0.76269776],\n",
    " [-0.496585   , 0.0227084  , 0.731672  ],\n",
    " [ 0.26781204 ,-0.419448  ,  0.591867  ]])\n",
    "\n",
    "biases_layer3 = np.array([-0.25541884, -0.2542955 ,  0.97049737])\n",
    "\n",
    "\n",
    "# 3. Set weights and biases manually\n",
    "model.layers[0].set_weights([weights_layer1, biases_layer1])\n",
    "model.layers[1].set_weights([weights_layer2, biases_layer2])\n",
    "model.layers[2].set_weights([weights_layer3, biases_layer3])\n",
    "\n",
    "\n",
    "# 4. Get the output (logits) for some input data\n",
    "# For demonstration purposes, I'm using a random input. Replace with your actual input data.\n",
    "\n",
    "sample_input = np.array([[355,982,768,59]])  # Example input data\n",
    "logits_output = model.predict(sample_input)\n",
    "\n",
    "print(logits_output)"
   ]
  },
  {
   "cell_type": "code",
   "execution_count": null,
   "id": "44e3db64",
   "metadata": {},
   "outputs": [],
   "source": []
  }
 ],
 "metadata": {
  "kernelspec": {
   "display_name": "Python 3 (ipykernel)",
   "language": "python",
   "name": "python3"
  },
  "language_info": {
   "codemirror_mode": {
    "name": "ipython",
    "version": 3
   },
   "file_extension": ".py",
   "mimetype": "text/x-python",
   "name": "python",
   "nbconvert_exporter": "python",
   "pygments_lexer": "ipython3",
   "version": "3.8.18"
  }
 },
 "nbformat": 4,
 "nbformat_minor": 5
}
