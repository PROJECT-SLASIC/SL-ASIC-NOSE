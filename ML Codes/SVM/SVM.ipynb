{
 "cells": [
  {
   "cell_type": "code",
   "execution_count": null,
   "metadata": {},
   "outputs": [],
   "source": [
    "import pandas as pd\n",
    "import matplotlib.pyplot as plt\n",
    "import numpy as np\n",
    "from sklearn.model_selection import train_test_split\n",
    "from sklearn.preprocessing import StandardScaler\n",
    "from sklearn import svm\n",
    "from sklearn.metrics import classification_report, confusion_matrix, ConfusionMatrixDisplay\n",
    "import seaborn as sns\n",
    "import os\n",
    "import serial \n"
   ]
  },
  {
   "cell_type": "code",
   "execution_count": null,
   "metadata": {},
   "outputs": [],
   "source": [
    "data = pd.read_csv(r\"C:\\Users\\bugra\\Desktop\\SLASIC\\SL-ASIC-NOSE\\ML Codes\\datas\\DATA_DFROBOT\\data_baharat.csv\", sep=';', encoding='utf-8')\n",
    "\n",
    "# Display the first few rows to ensure it's loaded correctly\n",
    "data.head()"
   ]
  },
  {
   "cell_type": "code",
   "execution_count": null,
   "metadata": {},
   "outputs": [],
   "source": [
    "X = data.iloc[:,:9]\n",
    "y = data.iloc[:, 9]\n",
    "print(X)"
   ]
  },
  {
   "cell_type": "code",
   "execution_count": null,
   "metadata": {},
   "outputs": [],
   "source": [
    "X_train, X_test, y_train, y_test = train_test_split(X,y,test_size=0.2,stratify=y, random_state=42)\n",
    "svc_model = svm.SVC(kernel='linear', random_state=42, decision_function_shape=\"ovo\")\n",
    "svc_model.fit(X_train, y_train)"
   ]
  },
  {
   "cell_type": "code",
   "execution_count": null,
   "metadata": {},
   "outputs": [],
   "source": [
    "print(\"weight: \", svc_model.coef_.tolist())\n",
    "print(\"bias: \", svc_model.intercept_.tolist())\n",
    "#pred = svc_model.predict(X_test)\n",
    "#cm = confusion_matrix(y_test, pred, labels=svc_model.classes_)\n",
    "#disp = ConfusionMatrixDisplay(confusion_matrix=cm, display_labels=svc_model.classes_)\n",
    "\n",
    "#disp.plot()\n",
    "\n",
    "#plt.show()"
   ]
  },
  {
   "cell_type": "code",
   "execution_count": null,
   "metadata": {},
   "outputs": [],
   "source": [
    "# Load the Excel file\n",
    "file_path = 'weigthbias_o.xlsx'\n",
    "data = pd.read_excel(file_path)\n",
    "\n",
    "# Display the first few rows to understand its structure\n",
    "data.head()\n",
    "\n",
    "# Dropping the unnamed or NaN columns\n",
    "valid_data = data.dropna(axis=1, how='all')\n",
    "\n",
    "# Convert the values to IEEE 754 format (64-bit double precision)\n",
    "# numpy.float64 already uses IEEE 754 format internally, but we'll explicitly demonstrate the conversion.\n",
    "def float_to_hex_single_precision(value):\n",
    "    # Convert the float to IEEE 754 binary representation in single precision\n",
    "    ieee754_binary_single = format(np.float32(value).view('i'), '032b')\n",
    "    # Convert the binary representation to hexadecimal\n",
    "    return hex(int(ieee754_binary_single, 2) & 0xFFFFFFFF)\n",
    "\n",
    "# Apply the conversion to single precision and then to hexadecimal across all valid data\n",
    "ieee754_hex_single_precision_data = valid_data.map(np.float32).map(float_to_hex_single_precision)\n",
    "\n",
    "# Save the single precision data to a new Excel file\n",
    "single_precision_output_file_path = 'converted_values_hex_single_precision.xlsx'\n",
    "ieee754_hex_single_precision_data.to_excel(single_precision_output_file_path, index=False)\n",
    "\n",
    "single_precision_output_file_path\n"
   ]
  },
  {
   "cell_type": "code",
   "execution_count": null,
   "metadata": {},
   "outputs": [],
   "source": [
    "\n",
    "\n",
    "# Adjusting the conversion to handle negative numbers correctly in hexadecimal\n",
    "# IEEE 754 format inherently handles sign, so we should directly convert the binary to hex without adding a minus sign.\n",
    "\n",
    "def binary_to_hex(binary_str):\n",
    "    # IEEE 754 binary representation is already signed; directly convert to hex\n",
    "    return hex(int(binary_str, 2) & 0xFFFFFFFF)\n",
    "\n",
    "# Apply the conversion without introducing a minus sign for negative values\n",
    "ieee754_hex_corrected_data = ieee754_formatted_data.map(binary_to_hex)\n",
    "\n",
    "# Save the corrected data to a new Excel file\n",
    "corrected_output_file_path = 'converted_values_hex_corrected.xlsx'\n",
    "ieee754_hex_corrected_data.to_excel(corrected_output_file_path, index=False)\n",
    "\n",
    "corrected_output_file_path\n"
   ]
  },
  {
   "cell_type": "code",
   "execution_count": null,
   "metadata": {},
   "outputs": [],
   "source": [
    "#plt.figure(figsize=(10,8))\n",
    "sns.scatterplot(x=X_train.iloc[:,0], y = X_train.iloc[:,1], hue = y_train, s=8)\n",
    "w = svc_model.coef_[0]\n",
    "b = svc_model.intercept_[0]\n",
    "x_points = np.linspace(-1,1)\n",
    "y_points = -(w[0]/w[1]) * x_points - b / w[1]\n",
    "\n",
    "\n",
    "#print(svc_model.coef_)\n",
    "#print(svc_model.score(X_test, y_test))\n",
    "print(svc_model.support_vectors_)\n",
    "#plt.plot(x_points,y_points,c='r')"
   ]
  },
  {
   "cell_type": "code",
   "execution_count": null,
   "metadata": {},
   "outputs": [],
   "source": [
    "plt.figure(figsize=(10,8))\n",
    "sns.scatterplot(x=X_train.iloc[:,1], y = X_train.iloc[:,2], hue = y_train, s=8)\n",
    "w = svc_model.coef_[0]\n",
    "b = svc_model.intercept_[0]\n",
    "x_points = np.linspace(-1,1)\n",
    "y_points = -(w[1]/w[2]) * x_points - b / w[2]\n",
    "\n",
    "plt.plot(x_points,y_points,c='r')"
   ]
  },
  {
   "cell_type": "code",
   "execution_count": null,
   "metadata": {},
   "outputs": [],
   "source": [
    "plt.figure(figsize=(10,8))\n",
    "sns.scatterplot(x=X_train.iloc[:,2], y = X_train.iloc[:,3], hue = y_train, s=8)\n",
    "w = svc_model.coef_[0]\n",
    "b = svc_model.intercept_[0]\n",
    "x_points = np.linspace(-1,1)\n",
    "y_points = -(w[2]/w[3]) * x_points - b / w[3]\n",
    "\n",
    "plt.plot(x_points,y_points,c='r')"
   ]
  },
  {
   "cell_type": "code",
   "execution_count": null,
   "metadata": {},
   "outputs": [],
   "source": [
    "plt.figure(figsize=(10,8))\n",
    "sns.scatterplot(x=X_train.iloc[:,3], y = X_train.iloc[:,4], hue = y_train, s=8)\n",
    "w = svc_model.coef_[0]\n",
    "\n",
    "w_hat = w / (np.sqrt(np.sum(w ** 2)))\n",
    "margin = 1 / np.sqrt(np.sum(w ** 2))\n",
    "\n",
    "new_points_up   = hyperplane_points + w_hat * margin\n",
    "new_points_down = hyperplane_points - w_hat * margin\n",
    "\n",
    "b = svc_model.intercept_[0]\n",
    "x_points = np.linspace(-1,1)\n",
    "y_points = -(w[3]/w[4]) * x_points - b / w[4]\n",
    "\n",
    "plt.plot(x_points,y_points,c='r')"
   ]
  }
 ],
 "metadata": {
  "kernelspec": {
   "display_name": "Python 3",
   "language": "python",
   "name": "python3"
  },
  "language_info": {
   "codemirror_mode": {
    "name": "ipython",
    "version": 3
   },
   "file_extension": ".py",
   "mimetype": "text/x-python",
   "name": "python",
   "nbconvert_exporter": "python",
   "pygments_lexer": "ipython3",
   "version": "3.12.2"
  }
 },
 "nbformat": 4,
 "nbformat_minor": 2
}
