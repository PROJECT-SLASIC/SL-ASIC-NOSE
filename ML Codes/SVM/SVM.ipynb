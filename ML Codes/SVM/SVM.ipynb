{
 "cells": [
  {
   "cell_type": "code",
   "execution_count": null,
   "metadata": {},
   "outputs": [],
   "source": [
    "import pandas as pd\n",
    "import matplotlib.pyplot as plt\n",
    "import numpy as np\n",
    "from sklearn.model_selection import train_test_split\n",
    "from sklearn.preprocessing import StandardScaler\n",
    "from sklearn import svm\n",
    "from sklearn.metrics import classification_report, confusion_matrix, ConfusionMatrixDisplay\n",
    "import seaborn as sns\n",
    "import os\n",
    "import serial \n"
   ]
  },
  {
   "cell_type": "code",
   "execution_count": null,
   "metadata": {},
   "outputs": [],
   "source": [
    "data = pd.read_csv(r\"C:\\Users\\SLASIC\\Desktop\\SLASIC_PROJECT\\SL-ASIC-NOSE\\ML Codes\\datas\\DATA_DFROBOT\\data_baharat.csv\", sep=';', encoding='utf-8')\n",
    "\n",
    "# Display the first few rows to ensure it's loaded correctly\n",
    "data.head()"
   ]
  },
  {
   "cell_type": "code",
   "execution_count": null,
   "metadata": {},
   "outputs": [],
   "source": [
    "X = data.iloc[:,:11]\n",
    "y = data.iloc[:, 11]\n",
    "print(X)"
   ]
  },
  {
   "cell_type": "code",
   "execution_count": null,
   "metadata": {},
   "outputs": [],
   "source": [
    "X_train, X_test, y_train, y_test = train_test_split(X,y,test_size=0.2,stratify=y, random_state=42)\n",
    "svc_model = svm.SVC(kernel='linear', random_state=42, decision_function_shape=\"ovo\")\n",
    "svc_model.fit(X_train, y_train)"
   ]
  },
  {
   "cell_type": "code",
   "execution_count": null,
   "metadata": {},
   "outputs": [],
   "source": [
    "#print(svc_model.coef_)\n",
    "#print(svc_model.intercept_)\n",
    "s = serial.Serial('COM4', baudrate=115200, bytesize=8)\n",
    "while 1:\n",
    "    try:\n",
    "        res = s.readline()\n",
    "        res = res.decode(\"ascii\")\n",
    "        print(res)\n",
    "        pred = svc_model.predict(res),\n",
    "        print(pred)\n",
    "    except:\n",
    "        continue\n",
    "cm = confusion_matrix(y_test, pred, labels=svc_model.classes_)\n",
    "disp = ConfusionMatrixDisplay(confusion_matrix=cm, display_labels=svc_model.classes_)\n",
    "disp.plot()\n",
    "\n",
    "plt.show()"
   ]
  },
  {
   "cell_type": "code",
   "execution_count": null,
   "metadata": {},
   "outputs": [],
   "source": [
    "#plt.figure(figsize=(10,8))\n",
    "sns.scatterplot(x=X_train.iloc[:,0], y = X_train.iloc[:,1], hue = y_train, s=8)\n",
    "w = svc_model.coef_[0]\n",
    "b = svc_model.intercept_[0]\n",
    "x_points = np.linspace(-1,1)\n",
    "y_points = -(w[0]/w[1]) * x_points - b / w[1]\n",
    "\n",
    "\n",
    "#print(svc_model.coef_)\n",
    "#print(svc_model.score(X_test, y_test))\n",
    "print(svc_model.support_vectors_)\n",
    "#plt.plot(x_points,y_points,c='r')"
   ]
  },
  {
   "cell_type": "code",
   "execution_count": null,
   "metadata": {},
   "outputs": [],
   "source": [
    "plt.figure(figsize=(10,8))\n",
    "sns.scatterplot(x=X_train.iloc[:,1], y = X_train.iloc[:,2], hue = y_train, s=8)\n",
    "w = svc_model.coef_[0]\n",
    "b = svc_model.intercept_[0]\n",
    "x_points = np.linspace(-1,1)\n",
    "y_points = -(w[1]/w[2]) * x_points - b / w[2]\n",
    "\n",
    "plt.plot(x_points,y_points,c='r')"
   ]
  },
  {
   "cell_type": "code",
   "execution_count": null,
   "metadata": {},
   "outputs": [],
   "source": [
    "plt.figure(figsize=(10,8))\n",
    "sns.scatterplot(x=X_train.iloc[:,2], y = X_train.iloc[:,3], hue = y_train, s=8)\n",
    "w = svc_model.coef_[0]\n",
    "b = svc_model.intercept_[0]\n",
    "x_points = np.linspace(-1,1)\n",
    "y_points = -(w[2]/w[3]) * x_points - b / w[3]\n",
    "\n",
    "plt.plot(x_points,y_points,c='r')"
   ]
  },
  {
   "cell_type": "code",
   "execution_count": null,
   "metadata": {},
   "outputs": [],
   "source": [
    "plt.figure(figsize=(10,8))\n",
    "sns.scatterplot(x=X_train.iloc[:,3], y = X_train.iloc[:,4], hue = y_train, s=8)\n",
    "w = svc_model.coef_[0]\n",
    "\n",
    "w_hat = w / (np.sqrt(np.sum(w ** 2)))\n",
    "margin = 1 / np.sqrt(np.sum(w ** 2))\n",
    "\n",
    "new_points_up   = hyperplane_points + w_hat * margin\n",
    "new_points_down = hyperplane_points - w_hat * margin\n",
    "\n",
    "b = svc_model.intercept_[0]\n",
    "x_points = np.linspace(-1,1)\n",
    "y_points = -(w[3]/w[4]) * x_points - b / w[4]\n",
    "\n",
    "plt.plot(x_points,y_points,c='r')"
   ]
  }
 ],
 "metadata": {
  "kernelspec": {
   "display_name": "Python 3",
   "language": "python",
   "name": "python3"
  },
  "language_info": {
   "codemirror_mode": {
    "name": "ipython",
    "version": 3
   },
   "file_extension": ".py",
   "mimetype": "text/x-python",
   "name": "python",
   "nbconvert_exporter": "python",
   "pygments_lexer": "ipython3",
   "version": "3.12.2"
  }
 },
 "nbformat": 4,
 "nbformat_minor": 2
}
